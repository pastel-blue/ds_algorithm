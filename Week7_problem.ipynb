{
 "cells": [
  {
   "cell_type": "code",
   "execution_count": 1,
   "metadata": {},
   "outputs": [],
   "source": [
    "# 학번 : 2019313365\n",
    "# 이름 : 양지인"
   ]
  },
  {
   "cell_type": "code",
   "execution_count": 15,
   "metadata": {},
   "outputs": [],
   "source": [
    "def card_sort():\n",
    "    ### Write your code ###\n",
    "    card = [] # 카드 사이즈 담을 배열 선언\n",
    "    # 값 입력받기\n",
    "    N = int(input()) # 카드 묶음 개수\n",
    "    for n in range(N):\n",
    "        size = int(input())\n",
    "        card.append(size)\n",
    "\n",
    "    # 카드 묶음 수 오름차순 정렬 -> 작은 수끼리 더해야 최소를 구할 수 있음\n",
    "    card.sort()\n",
    "    answer = 0\n",
    "    for c in range(len(card)-1): # 카드 묶음 수를 저장한 배열을 돌면서\n",
    "        temp = card[c] + card[c+1] # 두 묶음을 더하고\n",
    "        card[c+1] = temp # 해당 값을 다음 수와 더할 수 있게 card[c+1]에 저장\n",
    "        answer += temp # 더한 값은 answer 변수에 더해서 최종 비교 횟수 계산\n",
    "\n",
    "    return answer\n"
   ]
  },
  {
   "cell_type": "code",
   "execution_count": 16,
   "metadata": {},
   "outputs": [
    {
     "name": "stdout",
     "output_type": "stream",
     "text": [
      "100\n"
     ]
    }
   ],
   "source": [
    "### do not edit here ###\n",
    "\n",
    "result = card_sort()\n",
    "print(result)"
   ]
  }
 ],
 "metadata": {
  "kernelspec": {
   "display_name": "Python 3.8.13 ('workspace1')",
   "language": "python",
   "name": "python3"
  },
  "language_info": {
   "codemirror_mode": {
    "name": "ipython",
    "version": 3
   },
   "file_extension": ".py",
   "mimetype": "text/x-python",
   "name": "python",
   "nbconvert_exporter": "python",
   "pygments_lexer": "ipython3",
   "version": "3.10.6"
  },
  "orig_nbformat": 4,
  "vscode": {
   "interpreter": {
    "hash": "4e2a664029d0e8c08a66e74388e4525131edc920d7514c53fe7c04252539d287"
   }
  }
 },
 "nbformat": 4,
 "nbformat_minor": 2
}
