{
 "cells": [
  {
   "cell_type": "code",
   "execution_count": 1,
   "metadata": {},
   "outputs": [],
   "source": [
    "# 학번 : 2019313365\n",
    "# 이름 : 양지인"
   ]
  },
  {
   "cell_type": "code",
   "execution_count": 2,
   "metadata": {},
   "outputs": [],
   "source": [
    "### do not edit here ###\n",
    "\n",
    "arr = [\n",
    "    [0, 6, 10, 20, 9],\n",
    "    [12, 0, 5, 10, 17],\n",
    "    [9, 7, 0, 12, 14],\n",
    "    [8, 15, 20, 0, 5],\n",
    "    [5, 11, 18, 6, 0]\n",
    "]\n",
    "\n",
    "n = len(arr)\n",
    "graph = [[] for _ in range(n)]\n",
    "move_cost = float('inf')\n",
    "\n",
    "for i in range(n):\n",
    "    for j in range(n):\n",
    "        if i != j and arr[i][j] != 0:\n",
    "            graph[i].append((j, arr[i][j]))"
   ]
  },
  {
   "cell_type": "code",
   "execution_count": 3,
   "metadata": {},
   "outputs": [],
   "source": [
    "def min_cost(x, val, depth, visit, first, graph, n, cost):\n",
    "    # x : 현재 마을 번호\n",
    "    # val : 현재까지 경로의 비용\n",
    "    # depth : 현재까지 방문한 마을 개수\n",
    "    # visit : 방문 표시할 배열\n",
    "    # first : 시작 노드\n",
    "    # graph : 마을 간 이동 비용 담은 인접 행렬\n",
    "    # n : 마을 총 개수\n",
    "    # cost : 최소 비용 업데이트 위한 변수\n",
    "\n",
    "    # graph[x] 는 (x+1)번 마을의 (next, weight) next 마을까지의 weight을 담고 있음\n",
    "\n",
    "    visit[first] = True # 시작 마을 방문 처리\n",
    "    \n",
    "    # 모든 마을 방문하면\n",
    "    if depth == n:\n",
    "        for i in graph[x]:\n",
    "            if i[0] == first:\n",
    "                val += i[1] # 다시 원래 마을로 돌아오는 비용 추가\n",
    "                break\n",
    "        cost = min(cost, val)\n",
    "        return cost\n",
    "\n",
    "    for next, weight in graph[x]:\n",
    "        # 이미 방문한 마을이면 pass\n",
    "        if visit[next]:\n",
    "            continue\n",
    "        visit[next] = True # 다음 마을 방문 처리하고\n",
    "        cost = min_cost(next, val + weight, depth + 1, visit, first, graph, n, cost)\n",
    "        visit[next] = False # 원상복구 해줘야 함\n",
    "        \n",
    "    return cost"
   ]
  },
  {
   "cell_type": "code",
   "execution_count": 4,
   "metadata": {},
   "outputs": [
    {
     "name": "stdout",
     "output_type": "stream",
     "text": [
      "33\n"
     ]
    }
   ],
   "source": [
    "### do not edit here ###\n",
    "\n",
    "for i in range(n):\n",
    "    visit = [False] * n\n",
    "    first = i\n",
    "    result = min_cost(i, 0, 1, visit, first, graph, n, move_cost)\n",
    "\n",
    "print(result)"
   ]
  }
 ],
 "metadata": {
  "kernelspec": {
   "display_name": "Python 3.9.12 ('base')",
   "language": "python",
   "name": "python3"
  },
  "language_info": {
   "codemirror_mode": {
    "name": "ipython",
    "version": 3
   },
   "file_extension": ".py",
   "mimetype": "text/x-python",
   "name": "python",
   "nbconvert_exporter": "python",
   "pygments_lexer": "ipython3",
   "version": "3.10.6"
  },
  "orig_nbformat": 4,
  "vscode": {
   "interpreter": {
    "hash": "d83585ea989d46b21d47ab76915066d1a3316bdbf3271a104aaaa0ebae2a56a6"
   }
  }
 },
 "nbformat": 4,
 "nbformat_minor": 2
}
