{
 "cells": [
  {
   "cell_type": "code",
   "execution_count": 12,
   "metadata": {},
   "outputs": [],
   "source": [
    "def fibonacci(n):\n",
    "    #### Your Code Here ####\n",
    "   if(n==1 or n==2): # n이 1 혹은 2이면 1 반환\n",
    "    return 1\n",
    "   else:\n",
    "    return fibonacci(n-1) + fibonacci(n-2) # f(n) = f(n-1) + f(n-2) 재귀로 구현\n",
    "    \n",
    "    \n",
    "def lcm(x, y):\n",
    "\n",
    "    # 최대공약수 구하기\n",
    "    def gcd(a, b):\n",
    "        # 두 수 중 작은 숫자에서부터 0까지 1을 감소시키며 for문 돌림\n",
    "        # 예) 12,18 이 들어오면 어차피 12는 18로 안 나눠지니까 min값으로 찾음\n",
    "        for i in range(min(a,b), 0, -1):\n",
    "           if(a%i==0 and b%i==0): # 두 수를 다 나눌 수 있는 값 찾으면 바로 break (그게 최대니까)\n",
    "              #print('최대공약수: %d', i)\n",
    "              break\n",
    "        \n",
    "        return i\n",
    "\n",
    "    # 최대공약수를 이용해 최소공배수 구하기\n",
    "    # 두 수를 최대공약수로 나눠서 나온 나머지들과 최대공약수를 모두 곱한게 최소공배수가 됨\n",
    "    return int(gcd(x,y) * x/gcd(x,y) * y/gcd(x,y))"
   ]
  },
  {
   "cell_type": "code",
   "execution_count": 13,
   "metadata": {},
   "outputs": [
    {
     "name": "stdout",
     "output_type": "stream",
     "text": [
      "F(30) = 832040\n",
      "Execution Time: 0.1916487216949463 seconds\n"
     ]
    }
   ],
   "source": [
    "### do not edit here ###\n",
    "\n",
    "import time\n",
    "\n",
    "n = 30\n",
    "start_time = time.time()\n",
    "result = fibonacci(n)\n",
    "end_time = time.time()\n",
    "\n",
    "print(f\"F({n}) = {result}\")\n",
    "print(f\"Execution Time: {end_time - start_time} seconds\")"
   ]
  },
  {
   "cell_type": "code",
   "execution_count": 14,
   "metadata": {},
   "outputs": [
    {
     "name": "stdout",
     "output_type": "stream",
     "text": [
      "The LCM of 34 and 144 is 2448\n"
     ]
    }
   ],
   "source": [
    "### do not edit here ###\n",
    "\n",
    "n1 = fibonacci(9)\n",
    "n2 = fibonacci(12)\n",
    "lcm_result = lcm(n1, n2)\n",
    "print(f\"The LCM of {n1} and {n2} is {lcm_result}\")"
   ]
  }
 ],
 "metadata": {
  "kernelspec": {
   "display_name": "Python 3.8.13 ('workspace1')",
   "language": "python",
   "name": "python3"
  },
  "language_info": {
   "codemirror_mode": {
    "name": "ipython",
    "version": 3
   },
   "file_extension": ".py",
   "mimetype": "text/x-python",
   "name": "python",
   "nbconvert_exporter": "python",
   "pygments_lexer": "ipython3",
   "version": "3.10.6"
  },
  "orig_nbformat": 4,
  "vscode": {
   "interpreter": {
    "hash": "4e2a664029d0e8c08a66e74388e4525131edc920d7514c53fe7c04252539d287"
   }
  }
 },
 "nbformat": 4,
 "nbformat_minor": 2
}
