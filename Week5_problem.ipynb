{
 "cells": [
  {
   "cell_type": "code",
   "execution_count": 23,
   "metadata": {},
   "outputs": [
    {
     "name": "stdout",
     "output_type": "stream",
     "text": [
      "60\n"
     ]
    }
   ],
   "source": [
    "def calM():\n",
    "    N = int(input())\n",
    "    arr = [list(map(int, input().split())) for _ in range(N)]\n",
    "\n",
    "    dp = [[0]*(N) for _ in range(N)]\n",
    "    \n",
    "    #### Your Code Here ####\n",
    "    for i in range(N-1, 0, -1):\n",
    "        # 각 조합의 곱을 구해서 dp[i][j]에 넣기\n",
    "        for j in range(len(arr)-1):\n",
    "            dp[i][j] = arr[j][0] * arr[j][1] * arr[j+1][1]\n",
    "        \n",
    "        # 그 중 최소를 dp[i][N-1]에 넣는다.\n",
    "        minSum = min(dp[i][:i])\n",
    "        minIdx = dp[i][:i].index(minSum)\n",
    "\n",
    "        if i == N-1: # i가 마지막이면 그대로\n",
    "            dp[i][N-1] = minSum\n",
    "        else:\n",
    "            # dp[i][N-1] = 최소 + dp[i+1][N-1]\n",
    "            dp[i][N-1] = minSum + dp[i+1][N-1]\n",
    "        \n",
    "        # 선택된 두 조합을 arr에 합쳐서 표현\n",
    "        arr = arr[:minIdx] + [[arr[minIdx][0], arr[minIdx+1][1]]] + arr[minIdx+2:]\n",
    "        # print(f\"{i}번째 iter\")\n",
    "        # print(arr)\n",
    "        # print(dp)\n",
    "    \n",
    "    dp[0][N-1] = dp[1][N-1]\n",
    "    \n",
    "    return dp[0][N-1]\n",
    "\n",
    "result = calM()\n",
    "print(result)"
   ]
  },
  {
   "cell_type": "code",
   "execution_count": 24,
   "metadata": {},
   "outputs": [
    {
     "name": "stdout",
     "output_type": "stream",
     "text": [
      "60\n"
     ]
    }
   ],
   "source": [
    "### do not edit here ###\n",
    "\n",
    "result = calM()\n",
    "print(result)"
   ]
  }
 ],
 "metadata": {
  "kernelspec": {
   "display_name": "Python 3.9.12 ('base')",
   "language": "python",
   "name": "python3"
  },
  "language_info": {
   "codemirror_mode": {
    "name": "ipython",
    "version": 3
   },
   "file_extension": ".py",
   "mimetype": "text/x-python",
   "name": "python",
   "nbconvert_exporter": "python",
   "pygments_lexer": "ipython3",
   "version": "3.10.6"
  },
  "orig_nbformat": 4,
  "vscode": {
   "interpreter": {
    "hash": "d83585ea989d46b21d47ab76915066d1a3316bdbf3271a104aaaa0ebae2a56a6"
   }
  }
 },
 "nbformat": 4,
 "nbformat_minor": 2
}
