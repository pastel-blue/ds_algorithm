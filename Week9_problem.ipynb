{
 "cells": [
  {
   "cell_type": "code",
   "execution_count": 1,
   "metadata": {},
   "outputs": [],
   "source": [
    "# 학번 : 2019313365\n",
    "# 이름 : 양지인"
   ]
  },
  {
   "cell_type": "code",
   "execution_count": 2,
   "metadata": {},
   "outputs": [],
   "source": [
    "### do not edit here ###\n",
    "\n",
    "# 정점의 개수\n",
    "V = 5\n",
    "\n",
    "# 간선의 개수\n",
    "E = 6\n",
    "\n",
    "# 시작 정점 번호\n",
    "K = 1\n",
    "\n",
    "\n",
    "INF = float('inf')\n",
    "dp = [INF] * (V + 1)\n",
    "visited = [False] * (V + 1)\n",
    "graph = [[] for _ in range(V + 1)]"
   ]
  },
  {
   "cell_type": "code",
   "execution_count": 3,
   "metadata": {},
   "outputs": [],
   "source": [
    "### Write your code ###\n",
    "def Dijkstra(start):\n",
    "    # 시작 노드 방문 처리\n",
    "    visited[start] = True\n",
    "    # 시작점은 거리를 0으로 설정\n",
    "    dp[start] = 0\n",
    "\n",
    "    for i in graph[start]: # 시작점과 인접한 노드들 거리 초기화\n",
    "        # i[0] = w, i[1] = v\n",
    "        dp[i[1]] = i[0]\n",
    "\n",
    "    for _ in range(len(graph)-1): # 시작 노드 제외하고 나머지 노드들 처리\n",
    "        # 우선 아직 방문하지 않은 노드 중 최단 거리를 갖는 노드를 찾는다.\n",
    "        minDist = INF # 현재까지 발견한 최단 거리를 저장하기 위한 변수\n",
    "        minNode = -1 # 더 작은 거리를 갖는 노드가 있는지 찾기 위한 변수\n",
    "\n",
    "        for node in range(len(graph)):\n",
    "            if visited[node]: continue # 이미 방문한 노드면 스킵\n",
    "            if dp[node] < minDist: # 시작점에서 node까지 거리가 minDist보다 작다면 값 업데이트\n",
    "                minDist = dp[node]\n",
    "                minNode = node\n",
    "\n",
    "        # 해당 노드를 방문 처리하고\n",
    "        visited[minNode] = True\n",
    "\n",
    "        # 해당 노드와 연결된 노드로의 거리 업데이트한다.\n",
    "        for w, v in graph[minNode]:\n",
    "            if visited[v]: continue # 이미 방문한 노드면 스킵\n",
    "            newDist = dp[minNode] + w # minNode를 통해서 w 노드로 가는 거리 계산\n",
    "            if newDist < dp[v]: # 만약 그 값이 현재 dp[v]에서 알려진 v까지의 최단 거리보다 작다면\n",
    "                dp[v] = newDist # 업데이트"
   ]
  },
  {
   "cell_type": "code",
   "execution_count": 4,
   "metadata": {},
   "outputs": [],
   "source": [
    "### do not edit here ###\n",
    "\n",
    "# u -> v 로 가는 간선의 가중치 w 입력\n",
    "for _ in range(E):\n",
    "    u, v, w = map(int, input().split())\n",
    "    graph[u].append((w, v))"
   ]
  },
  {
   "cell_type": "code",
   "execution_count": 5,
   "metadata": {},
   "outputs": [
    {
     "name": "stdout",
     "output_type": "stream",
     "text": [
      "0\n",
      "2\n",
      "3\n",
      "7\n",
      "INF\n"
     ]
    }
   ],
   "source": [
    "### do not edit here ###\n",
    "\n",
    "Dijkstra(K)\n",
    "\n",
    "# 경로가 존재하지 않을 경우, INF를 출력\n",
    "for i in range(1, V + 1):\n",
    "    print(\"INF\" if dp[i] == INF else dp[i])"
   ]
  }
 ],
 "metadata": {
  "kernelspec": {
   "display_name": "Python 3.8.13 ('workspace1')",
   "language": "python",
   "name": "python3"
  },
  "language_info": {
   "codemirror_mode": {
    "name": "ipython",
    "version": 3
   },
   "file_extension": ".py",
   "mimetype": "text/x-python",
   "name": "python",
   "nbconvert_exporter": "python",
   "pygments_lexer": "ipython3",
   "version": "3.10.6"
  },
  "orig_nbformat": 4,
  "vscode": {
   "interpreter": {
    "hash": "4e2a664029d0e8c08a66e74388e4525131edc920d7514c53fe7c04252539d287"
   }
  }
 },
 "nbformat": 4,
 "nbformat_minor": 2
}
