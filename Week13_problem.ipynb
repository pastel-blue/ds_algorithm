{
 "cells": [
  {
   "cell_type": "code",
   "execution_count": 1,
   "metadata": {},
   "outputs": [],
   "source": [
    "# 학번 : 2019313365\n",
    "# 이름 : 양지인"
   ]
  },
  {
   "cell_type": "code",
   "execution_count": 2,
   "metadata": {},
   "outputs": [],
   "source": [
    "def max_num(N, nums):\n",
    "    # 리스트의 원소를 key로 하고, 각 원소를 자릿수별로 분리해서 value로 담을 딕셔너리 선언\n",
    "    digit_dict = {}\n",
    "    for i in range(N):\n",
    "        digit_list = list(map(int, str(nums[i]))) # 숫자를 각 자릿수로 분리해서 리스트에 담음\n",
    "        digit_dict[nums[i]] = digit_list\n",
    "\n",
    "    sorted_values = []\n",
    "\n",
    "    while digit_dict:\n",
    "        max_key = None\n",
    "        max_value = [-1]\n",
    "    \n",
    "        for key, value in digit_dict.items():\n",
    "            # 현재 value가 최대값보다 크면 현재 key와 value로 값 업데이트\n",
    "            if value[0] > max_value[0]:\n",
    "                max_key = key\n",
    "                max_value = value\n",
    "            # 만약 현재 숫자의 맨 앞자리가 max_key의 맨 앞자리가 동일하다면, 자릿수가 더 많은 value의 다음 원소와 비교\n",
    "            # 예) 7, 72이면 772가 더 크고, 7, 78이면 787이 더 큼.\n",
    "            elif value[0] == max_value[0]:\n",
    "                # 기존 max 보다 큰 자릿수가 들어오면 비교 원소 다음으로 이동\n",
    "                if len(value) > len(max_value):\n",
    "                    if len(max_value) == 1: # 현재 value가 1의 자리 수\n",
    "                        if value[1] > max_value[0]:\n",
    "                            max_key = key\n",
    "                            max_value = value\n",
    "                    elif len(max_value) == 2:\n",
    "                        if value[1] > max_value[1]:\n",
    "                            max_key = key\n",
    "                            max_value = value\n",
    "                        elif value[1] == max_value[1]: # 두번째 자릿수도 똑같으면, 길이가 큰 수만 세번째로 옮기고 비교\n",
    "                            if value[2] > max_value[1]:\n",
    "                                max_key = key\n",
    "                                max_value = value\n",
    "                # 기존 max와 같은 자릿수가 들어오면, 비교 원소 같이 이동\n",
    "                elif len(value) == len(max_value):\n",
    "                    if value[1] > max_value[1]:\n",
    "                        max_key = key\n",
    "                        max_value = value\n",
    "                else:\n",
    "                    if value[0] > max_value[1]:\n",
    "                        max_key = key\n",
    "                        max_value = value\n",
    "        \n",
    "        sorted_values.append(max_key) # 리스트에 추가해서 정렬함\n",
    "        digit_dict.pop(max_key) # 처리 완료된 건 pop\n",
    "\n",
    "    # 리스트를 문자열로 변환해 합쳐서 가장 큰 수 반환\n",
    "    return int(''.join(map(str, sorted_values)))"
   ]
  },
  {
   "cell_type": "code",
   "execution_count": 3,
   "metadata": {},
   "outputs": [],
   "source": [
    "### do not edit here ###\n",
    "\n",
    "N = 5\n",
    "nums = [7, 0, 28, 4, 1]"
   ]
  },
  {
   "cell_type": "code",
   "execution_count": 4,
   "metadata": {},
   "outputs": [
    {
     "name": "stdout",
     "output_type": "stream",
     "text": [
      "742810\n"
     ]
    }
   ],
   "source": [
    "### do not edit here ###\n",
    "\n",
    "answer = max_num(N, nums)\n",
    "print(answer)"
   ]
  }
 ],
 "metadata": {
  "kernelspec": {
   "display_name": "Python 3.9.12 ('base')",
   "language": "python",
   "name": "python3"
  },
  "language_info": {
   "codemirror_mode": {
    "name": "ipython",
    "version": 3
   },
   "file_extension": ".py",
   "mimetype": "text/x-python",
   "name": "python",
   "nbconvert_exporter": "python",
   "pygments_lexer": "ipython3",
   "version": "3.10.6"
  },
  "orig_nbformat": 4,
  "vscode": {
   "interpreter": {
    "hash": "d83585ea989d46b21d47ab76915066d1a3316bdbf3271a104aaaa0ebae2a56a6"
   }
  }
 },
 "nbformat": 4,
 "nbformat_minor": 2
}
