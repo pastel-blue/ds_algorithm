{
  "cells": [
    {
      "cell_type": "code",
      "execution_count": 1,
      "metadata": {
        "id": "ay6sj41Ve1_6"
      },
      "outputs": [],
      "source": [
        "move_x = [-1,1,0,0]\n",
        "move_y = [0,0,-1,1]\n",
        "\n",
        "def BFS(x,y):\n",
        "    queue = [(x,y)]\n",
        "    matrix[x][y] = 0\n",
        "\n",
        "    while queue:\n",
        "        x,y = queue.pop(0)\n",
        "\n",
        "        for i in range(4):\n",
        "            #### Your Code Here ####\n",
        "            x_ = x + move_x[i]\n",
        "            y_ = y + move_y[i]\n",
        "\n",
        "            if x_ < 0 or y_ < 0 or x_ >= 8 or y_ >= 8:\n",
        "                continue\n",
        "\n",
        "            if matrix[x_][y_] == 1 :\n",
        "                #### Your Code Here ####\n",
        "                matrix[x_][y_] = 0 # 방문한 곳은 0으로 두고, 나중에 방문하지 않음\n",
        "                queue.append((x_, y_))"
      ]
    },
    {
      "cell_type": "code",
      "execution_count": 2,
      "metadata": {
        "id": "BclMFjcHgS13"
      },
      "outputs": [
        {
          "data": {
            "text/plain": [
              "[[1, 1, 0, 1, 0, 0, 0, 0],\n",
              " [1, 0, 0, 0, 1, 1, 0, 0],\n",
              " [1, 0, 0, 0, 0, 0, 1, 0],\n",
              " [0, 0, 1, 0, 0, 1, 1, 0],\n",
              " [0, 0, 0, 0, 0, 1, 1, 0],\n",
              " [1, 1, 0, 0, 0, 0, 0, 0],\n",
              " [0, 1, 1, 1, 1, 1, 0, 1],\n",
              " [0, 0, 0, 0, 0, 0, 0, 1]]"
            ]
          },
          "execution_count": 2,
          "metadata": {},
          "output_type": "execute_result"
        }
      ],
      "source": [
        "### do not edit here ###\n",
        "\n",
        "k = [[0, 0], [1, 0], [3, 0], [0, 1], [4, 1], [5, 1], [0, 2], [6, 2], [2, 3], [5, 3], [6, 3],\n",
        "    [5, 4], [6, 4], [0, 5], [1, 5], [1, 6], [2, 6], [3, 6], [4, 6], [5, 6], [7, 6], [7, 7]]\n",
        "\n",
        "num = 22\n",
        "N = 8\n",
        "M = 8\n",
        "cnt = 0\n",
        "matrix = [[0]*(N) for _ in range(M)]\n",
        "\n",
        "for i in range(num):\n",
        "    x = k[i][1]\n",
        "    y = k[i][0]\n",
        "    matrix[x][y] = 1\n",
        "\n",
        "matrix"
      ]
    },
    {
      "cell_type": "code",
      "execution_count": 3,
      "metadata": {
        "id": "fJXdWaThggcR"
      },
      "outputs": [
        {
          "name": "stdout",
          "output_type": "stream",
          "text": [
            "7\n"
          ]
        }
      ],
      "source": [
        "### do not edit here ###\n",
        "\n",
        "for a in range(M):\n",
        "    for b in range(N):\n",
        "        if matrix[a][b] == 1:\n",
        "            BFS(a,b)\n",
        "            cnt += 1\n",
        "\n",
        "print(cnt)"
      ]
    }
  ],
  "metadata": {
    "colab": {
      "provenance": []
    },
    "kernelspec": {
      "display_name": "Python 3",
      "name": "python3"
    },
    "language_info": {
      "codemirror_mode": {
        "name": "ipython",
        "version": 3
      },
      "file_extension": ".py",
      "mimetype": "text/x-python",
      "name": "python",
      "nbconvert_exporter": "python",
      "pygments_lexer": "ipython3",
      "version": "3.10.6"
    }
  },
  "nbformat": 4,
  "nbformat_minor": 0
}
