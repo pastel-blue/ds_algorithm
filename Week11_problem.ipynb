{
 "cells": [
  {
   "cell_type": "code",
   "execution_count": 1,
   "metadata": {},
   "outputs": [],
   "source": [
    "# 학번 : 2019313365\n",
    "# 이름 : 양지인"
   ]
  },
  {
   "cell_type": "code",
   "execution_count": 2,
   "metadata": {},
   "outputs": [],
   "source": [
    "### do not edit here ###\n",
    "\n",
    "\n",
    "# 수업의 수\n",
    "\n",
    "N = 11"
   ]
  },
  {
   "cell_type": "code",
   "execution_count": 3,
   "metadata": {},
   "outputs": [],
   "source": [
    "### do not edit here ###\n",
    "\n",
    "\n",
    "# 각 수업의 시작시간과 끝나는 시간 입력\n",
    "\n",
    "time = [[0]*2 for _ in range(N)]\n",
    "\n",
    "for i in range(N):\n",
    "    start, end = map(int, input().split())\n",
    "    time[i][0] = start\n",
    "    time[i][1] = end"
   ]
  },
  {
   "cell_type": "code",
   "execution_count": 4,
   "metadata": {},
   "outputs": [],
   "source": [
    "def schedule(N, time):\n",
    "    ### Write your code ###\n",
    "    \n",
    "    # 선택 가능한 회의 시간 중 빨리 끝나는 회의 우선 선택 -> 그리디 알고리즘!\n",
    "    # 일단 회의 끝나는 시간 순으로 time 정렬\n",
    "    time.sort(key=lambda x: x[1]) # time에서 두번째 요소 (끝나는 시간) 기준 정렬\n",
    "    #print(time)\n",
    "\n",
    "    cnt = 0 # 개수 카운트 변수\n",
    "    prev = 0 # 이전에 선택한 회의가 끝나는 시간 나타내기 위한 변수\n",
    "    for t in time:\n",
    "        if t[0] < prev: # 현재 회의 시작 시간이 이전에 선택한 회의가 끝나는 시간보다 작으면 넘어감 (겹치니까)\n",
    "            continue\n",
    "        cnt += 1 # 그렇지 않으면 cnt 증가하고\n",
    "        prev = t[1] # 이전에 선택한 회의의 끝나는 시간을 현재 회의 끝나는 시간으로 업데이트\n",
    "\n",
    "    return cnt"
   ]
  },
  {
   "cell_type": "code",
   "execution_count": 5,
   "metadata": {},
   "outputs": [
    {
     "name": "stdout",
     "output_type": "stream",
     "text": [
      "4\n"
     ]
    }
   ],
   "source": [
    "### do not edit here ###\n",
    "\n",
    "result = schedule(N, time)\n",
    "print(result)"
   ]
  }
 ],
 "metadata": {
  "kernelspec": {
   "display_name": "Python 3.9.12 ('base')",
   "language": "python",
   "name": "python3"
  },
  "language_info": {
   "codemirror_mode": {
    "name": "ipython",
    "version": 3
   },
   "file_extension": ".py",
   "mimetype": "text/x-python",
   "name": "python",
   "nbconvert_exporter": "python",
   "pygments_lexer": "ipython3",
   "version": "3.10.6"
  },
  "orig_nbformat": 4,
  "vscode": {
   "interpreter": {
    "hash": "d83585ea989d46b21d47ab76915066d1a3316bdbf3271a104aaaa0ebae2a56a6"
   }
  }
 },
 "nbformat": 4,
 "nbformat_minor": 2
}
