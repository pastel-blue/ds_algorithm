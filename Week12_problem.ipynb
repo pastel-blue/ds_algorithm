{
 "cells": [
  {
   "cell_type": "code",
   "execution_count": 1,
   "metadata": {},
   "outputs": [],
   "source": [
    "# 학번 : 2019313365\n",
    "# 이름 : 양지인"
   ]
  },
  {
   "cell_type": "code",
   "execution_count": 2,
   "metadata": {},
   "outputs": [],
   "source": [
    "def backtracking(k, board, cnt):\n",
    "    global N\n",
    "    if k == N: # 하나의 해 탐색 성공\n",
    "        cnt[0] += 1 # 카운트를 1 증가\n",
    "        return # 백트래킹\n",
    "        \n",
    "    for i in range(N): # 현재 행에서 모든 열(i) 체크\n",
    "        ### Write your code ###\n",
    "        if queen(k, i, board): # (i,k)에 퀸 놓을 수 있는지 체크\n",
    "            board[k] = i # # 현재 행 k에 퀸을 놓음 (board[k]는 열 인덱스를 나타냄)\n",
    "            backtracking(k + 1, board, cnt) # 다음 행으로 이동해 재귀 호출\n",
    "\n",
    "\n",
    "def queen(a, b, board):\n",
    "    for i in range(a):\n",
    "        ### Write your code ###\n",
    "        # 현재 위치 (a,b)에 퀸을 놓았을 때, 이전 행에 놓인 퀸들과 충돌하는 지 체크\n",
    "        if board[i] == b or board[i] + i == b + a or board[i] - i == b - a:\n",
    "            # 같은 열에 놓였는지, 대각선 방향에 놓였는지 확인\n",
    "            return False # 충돌\n",
    "    return True # 충돌 X"
   ]
  },
  {
   "cell_type": "code",
   "execution_count": 3,
   "metadata": {},
   "outputs": [],
   "source": [
    "### do not edit here ###\n",
    "\n",
    "N = 7\n",
    "board = [0] * N\n",
    "cnt = [0]"
   ]
  },
  {
   "cell_type": "code",
   "execution_count": 4,
   "metadata": {},
   "outputs": [
    {
     "name": "stdout",
     "output_type": "stream",
     "text": [
      "40\n"
     ]
    }
   ],
   "source": [
    "### do not edit here ###\n",
    "\n",
    "backtracking(0, board, cnt)\n",
    "print(cnt[0])"
   ]
  }
 ],
 "metadata": {
  "kernelspec": {
   "display_name": "Python 3",
   "language": "python",
   "name": "python3"
  },
  "language_info": {
   "codemirror_mode": {
    "name": "ipython",
    "version": 3
   },
   "file_extension": ".py",
   "mimetype": "text/x-python",
   "name": "python",
   "nbconvert_exporter": "python",
   "pygments_lexer": "ipython3",
   "version": "3.10.6"
  },
  "orig_nbformat": 4
 },
 "nbformat": 4,
 "nbformat_minor": 2
}
