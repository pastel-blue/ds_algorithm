{
 "cells": [
  {
   "cell_type": "code",
   "execution_count": 1,
   "metadata": {},
   "outputs": [],
   "source": [
    "# 학번 : 2019313365\n",
    "# 이름 : 양지인"
   ]
  },
  {
   "cell_type": "code",
   "execution_count": 2,
   "metadata": {},
   "outputs": [],
   "source": [
    "### do not edit here ###\n",
    "\n",
    "N = 5\n",
    "\n",
    "count_buy = list(map(int, input().split()))"
   ]
  },
  {
   "cell_type": "code",
   "execution_count": 3,
   "metadata": {},
   "outputs": [],
   "source": [
    "### Write your code ###\n",
    "\n",
    "def buying(N, count_buy):\n",
    "\n",
    "    answer = 0\n",
    "    while any(cnt != 0 for cnt in count_buy): # count_buy의 모든 원소가 0이 아닌 경우\n",
    "        for i in range(1, N+1): # 주의: i번째 가게 -> count_buy[i-1]\n",
    "            if i < N-1 and count_buy[i-1] > 0 and count_buy[i] > 0 and count_buy[i+1] > 0:\n",
    "                # 일단 3개 가게에서 연달아 살 수 있는 것부터 쭉 구매 (탐욕?)\n",
    "                # i번, (i+1), (i+2)번 가게에서 각각 하나 구매 -> 비용 7원\n",
    "                answer += 7\n",
    "                # 구매한 개수 빼기\n",
    "                count_buy[i-1] -= 1\n",
    "                count_buy[i] -= 1\n",
    "                count_buy[i+1] -= 1\n",
    "                #print(str(i) + \"번째 루프 3번 \", answer, count_buy)\n",
    "        \n",
    "        for i in range(1, N+1):\n",
    "            if i < N and count_buy[i-1] > 0 and count_buy[i] > 0:\n",
    "                # i번 가게와 (i+1)번 가게에서 각각 하나 구매 -> 비용 5원\n",
    "                answer += 5\n",
    "                count_buy[i-1] -= 1\n",
    "                count_buy[i] -= 1\n",
    "                #print(\"2번 \", answer, count_buy)\n",
    "        \n",
    "        for i in range(1, N+1):\n",
    "            # i번 가게에서 탕후루 하나 구매 -> 비용 3원\n",
    "            if count_buy[i-1] == 0: continue # 살 거 없으니까 넘어감\n",
    "            answer += 3 * count_buy[i-1]\n",
    "            count_buy[i-1] = 0 # 다 구매했으니까 초기화\n",
    "            #print(\"1번 \", answer, count_buy)\n",
    "\n",
    "    return answer"
   ]
  },
  {
   "cell_type": "code",
   "execution_count": 4,
   "metadata": {},
   "outputs": [
    {
     "name": "stdout",
     "output_type": "stream",
     "text": [
      "13\n"
     ]
    }
   ],
   "source": [
    "### do not edit here ###\n",
    "\n",
    "answer = buying(N, count_buy)\n",
    "\n",
    "print(answer)"
   ]
  }
 ],
 "metadata": {
  "kernelspec": {
   "display_name": "Python 3.9.12 ('base')",
   "language": "python",
   "name": "python3"
  },
  "language_info": {
   "codemirror_mode": {
    "name": "ipython",
    "version": 3
   },
   "file_extension": ".py",
   "mimetype": "text/x-python",
   "name": "python",
   "nbconvert_exporter": "python",
   "pygments_lexer": "ipython3",
   "version": "3.10.6"
  },
  "orig_nbformat": 4,
  "vscode": {
   "interpreter": {
    "hash": "d83585ea989d46b21d47ab76915066d1a3316bdbf3271a104aaaa0ebae2a56a6"
   }
  }
 },
 "nbformat": 4,
 "nbformat_minor": 2
}
