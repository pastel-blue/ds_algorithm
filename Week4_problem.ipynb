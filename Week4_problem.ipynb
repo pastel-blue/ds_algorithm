{
 "cells": [
  {
   "cell_type": "code",
   "execution_count": 1,
   "metadata": {},
   "outputs": [],
   "source": [
    "# 학번: 2019313365\n",
    "# 이름: 양지인"
   ]
  },
  {
   "cell_type": "code",
   "execution_count": 1,
   "metadata": {},
   "outputs": [],
   "source": [
    "### do not edit here ###\n",
    "\n",
    "\n",
    "# 날짜 수와 시간 제한 \n",
    "N, D = 6, 4\n",
    "\n",
    "# N일 동안의 온도\n",
    "T = [0] * (N + 1)\n",
    "\n",
    "# N일 동안의 오크통의 가치\n",
    "v = [0] * (N + 1)\n",
    "\n",
    "# 현재까지 구간에서 최대 와인의 맛을 찾을 때, 어느 숙성 시간에서 최대값이 나왔는지 기록\n",
    "# P[mid]는 현재 구간에서 최대 와인의 맛이 나오는 숙성 시간을 나타냄. \n",
    "P = [0] * (N + 1)\n",
    "\n",
    "# 각 구간에서의 최대 와인의 맛을 저장\n",
    "dp = [0] * (N + 1)\n",
    "\n",
    "T[1:N + 1] = [23, 22, 21, 20, 19, 18]\n",
    "v[1:N + 1] = [20, 40, 30, 50, 10, 40]"
   ]
  },
  {
   "cell_type": "code",
   "execution_count": 2,
   "metadata": {},
   "outputs": [],
   "source": [
    "# 현재 구간을 두 개의 하위 구간으로 분할하는 함수\n",
    "# 현재 구간에서 최적의 숙성 시간을 찾은 뒤, 그 숙성 시간을 중심으로 왼쪽과 오른쪽 구간으로 나눔.\n",
    "def dnc(start, end, left, right):\n",
    "    #### Your Code Here ####\n",
    "    if start > end: return # 종료 조건\n",
    "    \n",
    "    mid = (start + end) // 2\n",
    "    #print(\"mid: %d\\n\", mid)\n",
    "    maxTaste = 0\n",
    "    bestTime = 0\n",
    "    \n",
    "    # 현재 구간에서 최적의 숙성 시간 찾기\n",
    "    for insertDay in range(start, mid+1): # 와인 넣은 날\n",
    "        for extractDay in range(mid, end+1): # 와인 꺼낸 날\n",
    "            agingDay = extractDay - insertDay # 숙성 시간 = 와인 꺼낸 날짜 - 와인 넣은 날짜\n",
    "            if agingDay <= D: # 숙성 시간이 D 이하인 것만 계산 \n",
    "                currTaste = agingDay * T[extractDay] + v[insertDay] # 와인 맛의 가치\n",
    "                # 현재 구간에서 최대 와인 맛 찾고, 그때의 숙성 시간 저장\n",
    "                if(currTaste > maxTaste):\n",
    "                    maxTaste = currTaste\n",
    "                    bestTime = agingDay\n",
    "                    #print(\"maxTaste: %d\\n\", maxTaste)\n",
    "                    #print(\"bestTime: %d\\n\", bestTime)\n",
    "\n",
    "    P[mid] = bestTime # P[mid]에는 현재 구간에서 최대 와인의 맛이 나오는 숙성 시간을 기록\n",
    "    dp[mid] = maxTaste # dp[mid]에는 현재 구간에서 최대 와인 맛을 저장\n",
    "    \n",
    "    # 찾은 숙성 시간을 기준으로 왼쪽과 오른쪽으로 나누어 탐색\n",
    "    dnc(start, mid-1, left, P[mid]-1)\n",
    "    dnc(mid+1, end, P[mid]+1, right)"
   ]
  },
  {
   "cell_type": "code",
   "execution_count": 3,
   "metadata": {},
   "outputs": [
    {
     "name": "stdout",
     "output_type": "stream",
     "text": [
      "Max Value: 112\n"
     ]
    }
   ],
   "source": [
    "### do not edit here ###\n",
    "\n",
    "dnc(1, N, 1, N)\n",
    "print(\"Max Value:\", max(dp[1:N + 1]))"
   ]
  }
 ],
 "metadata": {
  "kernelspec": {
   "display_name": "Python 3.9.12 ('base')",
   "language": "python",
   "name": "python3"
  },
  "language_info": {
   "codemirror_mode": {
    "name": "ipython",
    "version": 3
   },
   "file_extension": ".py",
   "mimetype": "text/x-python",
   "name": "python",
   "nbconvert_exporter": "python",
   "pygments_lexer": "ipython3",
   "version": "3.10.6"
  },
  "orig_nbformat": 4,
  "vscode": {
   "interpreter": {
    "hash": "d83585ea989d46b21d47ab76915066d1a3316bdbf3271a104aaaa0ebae2a56a6"
   }
  }
 },
 "nbformat": 4,
 "nbformat_minor": 2
}
