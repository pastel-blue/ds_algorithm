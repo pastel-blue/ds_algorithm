{
 "cells": [
  {
   "cell_type": "code",
   "execution_count": 1,
   "metadata": {},
   "outputs": [],
   "source": [
    "### do not edit here ###\n",
    "\n",
    "n, k = map(int, input().split())\n",
    "\n",
    "thing = [[0,0]]\n",
    "d = [[0]*(k+1) for _ in range(n+1)]\n",
    "\n",
    "for i in range(n):\n",
    "    thing.append(list(map(int, input().split())))\n"
   ]
  },
  {
   "cell_type": "code",
   "execution_count": 2,
   "metadata": {},
   "outputs": [],
   "source": [
    "def fill(n, k, thing, d):\n",
    "    for i in range(1, n+1):\n",
    "        for j in range(1, k+1):\n",
    "            # d[i][j] 는 물건 1~i까지만 고려하고, 현재 가방의 용량이 w일 때의 최대 가치를 담음\n",
    "            # 현재 물건의 무게와 가치를 담은 변수를 선언\n",
    "            weight = thing[i][0]\n",
    "            value = thing[i][1]\n",
    "            if weight > j: # 만약 물건 i의 무게가 현재 용량(j)보다 크면\n",
    "                d[i][j] = d[i-1][j]\n",
    "            # 물건 i를 가방에 넣을 경우와 넣지 않을 경우 고려\n",
    "            # 1. 물건 i를 넣을 경우 \n",
    "            # -> 전체 가치는 \"물건 i의 가치 + 물건 1~(i-1)까지 고려해 현재 가방 용량이 물건 i 담을 수 있는 무게인 경우의 최대 가치\n",
    "            # 2. 물건 i를 넣지 않을 경우 -> 전체 가치는 이전과 동일함\n",
    "            # 두 경우 중 최대 가치를 담음\n",
    "            else:\n",
    "                d[i][j] = max(d[i-1][j-weight]+value, d[i-1][j])\n",
    "\n",
    "    return d[n][k]"
   ]
  },
  {
   "cell_type": "code",
   "execution_count": 3,
   "metadata": {},
   "outputs": [
    {
     "name": "stdout",
     "output_type": "stream",
     "text": [
      "14\n"
     ]
    }
   ],
   "source": [
    "### do not edit here ###\n",
    "\n",
    "result = fill(n, k, thing, d)\n",
    "print(result)"
   ]
  }
 ],
 "metadata": {
  "kernelspec": {
   "display_name": "Python 3",
   "language": "python",
   "name": "python3"
  },
  "language_info": {
   "codemirror_mode": {
    "name": "ipython",
    "version": 3
   },
   "file_extension": ".py",
   "mimetype": "text/x-python",
   "name": "python",
   "nbconvert_exporter": "python",
   "pygments_lexer": "ipython3",
   "version": "3.10.6"
  },
  "orig_nbformat": 4
 },
 "nbformat": 4,
 "nbformat_minor": 2
}
